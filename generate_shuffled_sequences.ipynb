{
 "cells": [
  {
   "cell_type": "code",
   "execution_count": 1,
   "id": "17db166f",
   "metadata": {},
   "outputs": [],
   "source": [
    "import uproot\n",
    "import awkward as ak\n",
    "\n",
    "import numpy as np\n",
    "\n",
    "np.random.seed(0)"
   ]
  },
  {
   "cell_type": "code",
   "execution_count": 2,
   "id": "5ef2d465",
   "metadata": {},
   "outputs": [
    {
     "data": {
      "text/html": [
       "<pre>[{nL1BMTFStub: 1, L1BMTFStub_hwQual: [4], L1BMTFStub_hwPhi: [674], ...},\n",
       " {nL1BMTFStub: 1, L1BMTFStub_hwQual: [2], L1BMTFStub_hwPhi: [-278], ...},\n",
       " {nL1BMTFStub: 2, L1BMTFStub_hwQual: [5, 6], L1BMTFStub_hwPhi: [...], ...},\n",
       " {nL1BMTFStub: 3, L1BMTFStub_hwQual: [6, 5, 2], L1BMTFStub_hwPhi: [...], ...},\n",
       " {nL1BMTFStub: 1, L1BMTFStub_hwQual: [2], L1BMTFStub_hwPhi: [-576], ...},\n",
       " {nL1BMTFStub: 1, L1BMTFStub_hwQual: [2], L1BMTFStub_hwPhi: [-575], ...},\n",
       " {nL1BMTFStub: 1, L1BMTFStub_hwQual: [2], L1BMTFStub_hwPhi: [335], ...},\n",
       " {nL1BMTFStub: 2, L1BMTFStub_hwQual: [6, 2], L1BMTFStub_hwPhi: [...], ...},\n",
       " {nL1BMTFStub: 1, L1BMTFStub_hwQual: [3], L1BMTFStub_hwPhi: [380], ...},\n",
       " {nL1BMTFStub: 1, L1BMTFStub_hwQual: [4], L1BMTFStub_hwPhi: [467], ...},\n",
       " ...,\n",
       " {nL1BMTFStub: 2, L1BMTFStub_hwQual: [2, 2], L1BMTFStub_hwPhi: [...], ...},\n",
       " {nL1BMTFStub: 1, L1BMTFStub_hwQual: [3], L1BMTFStub_hwPhi: [1069], ...},\n",
       " {nL1BMTFStub: 1, L1BMTFStub_hwQual: [3], L1BMTFStub_hwPhi: [1067], ...},\n",
       " {nL1BMTFStub: 1, L1BMTFStub_hwQual: [3], L1BMTFStub_hwPhi: [351], ...},\n",
       " {nL1BMTFStub: 2, L1BMTFStub_hwQual: [4, 3], L1BMTFStub_hwPhi: [...], ...},\n",
       " {nL1BMTFStub: 2, L1BMTFStub_hwQual: [6, 5], L1BMTFStub_hwPhi: [...], ...},\n",
       " {nL1BMTFStub: 1, L1BMTFStub_hwQual: [3], L1BMTFStub_hwPhi: [591], ...},\n",
       " {nL1BMTFStub: 1, L1BMTFStub_hwQual: [3], L1BMTFStub_hwPhi: [121], ...},\n",
       " {nL1BMTFStub: 1, L1BMTFStub_hwQual: [2], L1BMTFStub_hwPhi: [-293], ...}]\n",
       "------------------------------------------------------------------------------\n",
       "backend: cpu\n",
       "nbytes: 28.9 MB\n",
       "type: 158919 * {\n",
       "    nL1BMTFStub: int32,\n",
       "    L1BMTFStub_hwQual: var * int64,\n",
       "    L1BMTFStub_hwPhi: var * int64,\n",
       "    L1BMTFStub_hwPhiB: var * int64,\n",
       "    L1BMTFStub_hwEta: var * int64,\n",
       "    L1BMTFStub_hwQEta: var * int64,\n",
       "    L1BMTFStub_wheel: var * int64,\n",
       "    L1BMTFStub_sector: var * int64,\n",
       "    L1BMTFStub_station: var * int64,\n",
       "    orbitNumber: int64,\n",
       "    ...\n",
       "}</pre>"
      ],
      "text/plain": [
       "<Array [{nL1BMTFStub: 1, ...}, ..., {...}] type='158919 * {nL1BMTFStub: int...'>"
      ]
     },
     "execution_count": 2,
     "metadata": {},
     "output_type": "execute_result"
    }
   ],
   "source": [
    "sequences = uproot.open(\"data/output_1000_seq3.root:L1BMTFStubSequences\").arrays()\n",
    "sequences"
   ]
  },
  {
   "cell_type": "code",
   "execution_count": 3,
   "id": "85cdcaef",
   "metadata": {},
   "outputs": [],
   "source": [
    "def orbit_aggregator(data: ak.Array):\n",
    "    assert \"orbitNumber\" in data.fields\n",
    "    \n",
    "    data_sorted = data[ak.argsort(data[\"orbitNumber\"])]\n",
    "    orbit_reps = ak.run_lengths(data_sorted[\"orbitNumber\"])\n",
    "\n",
    "    \"\"\"\n",
    "    unflatten data\n",
    "    \"\"\"\n",
    "    data_uf = ak.unflatten(\n",
    "        data_sorted, \n",
    "        orbit_reps\n",
    "    )\n",
    "    \n",
    "    \"\"\"\n",
    "    group by orbit (gpo)\n",
    "    \"\"\"\n",
    "    zip_dict = {key: data_uf[key] for key in data_uf.fields if key != \"orbitNumber\"}\n",
    "    zip_dict[\"orbitNumber\"] = data_uf[\"orbitNumber\"][:,0]\n",
    "    data_gpo = ak.zip(zip_dict, depth_limit=1)\n",
    "\n",
    "    return data_gpo.to_list()\n",
    "\n",
    "sequences_gpo = orbit_aggregator(sequences)"
   ]
  },
  {
   "cell_type": "code",
   "execution_count": 4,
   "id": "1443e5c0",
   "metadata": {},
   "outputs": [],
   "source": [
    "def shuffle_orbit_sequences(orbit_dict):\n",
    "    shuffle_pattern = np.random.permutation(len(orbit_dict[\"bunchCrossing\"]))\n",
    "    shuffled_bxs = ak.Array(orbit_dict[\"bunchCrossing\"])[shuffle_pattern]\n",
    "\n",
    "    while np.any(np.diff(shuffled_bxs) == 1):\n",
    "        shuffle_pattern = np.random.permutation(len(orbit_dict[\"bunchCrossing\"]))\n",
    "        shuffled_bxs = ak.Array(orbit_dict[\"bunchCrossing\"])[shuffle_pattern]\n",
    "        \n",
    "    shuffled_orbit_dict = {}\n",
    "\n",
    "    for key in orbit_dict:\n",
    "        if key == \"orbitNumber\":\n",
    "            continue\n",
    "        \n",
    "        shuffled_orbit_dict[key] = ak.Array(orbit_dict[key])[shuffle_pattern].to_list()\n",
    "\n",
    "    shuffled_orbit_dict[\"orbitNumber\"] = orbit_dict[\"orbitNumber\"]\n",
    "    return shuffled_orbit_dict\n",
    "\n",
    "shuffled_sequences_gpo = list(map(shuffle_orbit_sequences, sequences_gpo))"
   ]
  },
  {
   "cell_type": "code",
   "execution_count": 5,
   "id": "37ac34a3",
   "metadata": {},
   "outputs": [],
   "source": [
    "def extract_sequences(orbit_dict):\n",
    "    nbx = len(orbit_dict[\"bunchCrossing\"])\n",
    "    nseq = nbx // 3\n",
    "    mask = np.arange(nbx).reshape((nseq, 3))\n",
    "\n",
    "    sequence_dict = {}\n",
    "\n",
    "    for key, values in orbit_dict.items():\n",
    "        if key == \"orbitNumber\":\n",
    "            continue\n",
    "\n",
    "        values_ak = ak.Array(values)\n",
    "        sequence_dict[key] = values_ak[mask].to_list()\n",
    "\n",
    "    orbit_number = orbit_dict[\"orbitNumber\"] * np.ones((nseq, 3), dtype=np.int32)\n",
    "    sequence_dict[\"orbitNumber\"] = orbit_number.tolist()\n",
    "    return sequence_dict\n",
    "\n",
    "shuffled_sequences = list(map(extract_sequences, shuffled_sequences_gpo))"
   ]
  },
  {
   "cell_type": "code",
   "execution_count": 6,
   "id": "6b547d59",
   "metadata": {},
   "outputs": [],
   "source": [
    "shuffled_sequences_conc = ak.concatenate([ak.Array(d) for d in shuffled_sequences]).to_list()"
   ]
  },
  {
   "cell_type": "code",
   "execution_count": 7,
   "id": "7d745f63",
   "metadata": {},
   "outputs": [],
   "source": [
    "# def bx_check(sequence_dict):\n",
    "#     bx_diff = np.abs(np.diff(sequence_dict[\"bunchCrossing\"]))\n",
    "\n",
    "#     if np.all(bx_diff >= 24):\n",
    "#         return sequence_dict\n",
    "    \n",
    "\n",
    "# shuffled_sequences_filtered = list(map(bx_check, shuffled_sequences_conc))\n",
    "# shuffled_sequences_filtered = list(filter(lambda x: x is not None, shuffled_sequences_filtered))"
   ]
  },
  {
   "cell_type": "code",
   "execution_count": 9,
   "id": "5d4a3f00",
   "metadata": {},
   "outputs": [],
   "source": [
    "def bx_check(sequence_dict):\n",
    "    bx_diff = np.abs(np.diff(sequence_dict[\"bunchCrossing\"]))\n",
    "\n",
    "    return np.all(bx_diff >= 24)\n",
    "    \n",
    "shuffled_sequences_filtered = list(filter(bx_check, shuffled_sequences_conc))"
   ]
  },
  {
   "cell_type": "code",
   "execution_count": 12,
   "id": "5843b4da",
   "metadata": {},
   "outputs": [],
   "source": [
    "for index, sequence_dict in enumerate(shuffled_sequences_filtered):\n",
    "    sequence_dict[\"sequenceIndex\"] = 3 * [index]"
   ]
  },
  {
   "cell_type": "code",
   "execution_count": 13,
   "id": "98893484",
   "metadata": {},
   "outputs": [],
   "source": [
    "shuffled_sequences_filtered = ak.concatenate([ak.Array(d) for d in shuffled_sequences_filtered])"
   ]
  },
  {
   "cell_type": "code",
   "execution_count": 19,
   "id": "95c713b2",
   "metadata": {},
   "outputs": [
    {
     "data": {
      "text/html": [
       "<pre>{nL1BMTFStub: 2,\n",
       " L1BMTFStub_hwQual: [5, 6],\n",
       " L1BMTFStub_hwPhi: [674, -1092],\n",
       " L1BMTFStub_hwPhiB: [279, 163],\n",
       " L1BMTFStub_hwEta: [32, 16],\n",
       " L1BMTFStub_hwQEta: [32, 0],\n",
       " L1BMTFStub_wheel: [-1, -1],\n",
       " L1BMTFStub_sector: [8, 9],\n",
       " L1BMTFStub_station: [1, 2],\n",
       " bunchCrossing: 988,\n",
       " sequenceIndex: 1,\n",
       " orbitNumber: 261881864}\n",
       "--------------------------------\n",
       "backend: cpu\n",
       "nbytes: 16.1 MB\n",
       "type: {\n",
       "    nL1BMTFStub: int64,\n",
       "    L1BMTFStub_hwQual: var * int64,\n",
       "    L1BMTFStub_hwPhi: var * int64,\n",
       "    L1BMTFStub_hwPhiB: var * int64,\n",
       "    L1BMTFStub_hwEta: var * int64,\n",
       "    L1BMTFStub_hwQEta: var * int64,\n",
       "    L1BMTFStub_wheel: var * int64,\n",
       "    L1BMTFStub_sector: var * int64,\n",
       "    L1BMTFStub_station: var * int64,\n",
       "    bunchCrossing: int64,\n",
       "    ...\n",
       "}</pre>"
      ],
      "text/plain": [
       "<Record {nL1BMTFStub: 2, ...} type='{nL1BMTFStub: int64, L1BMTFStub_hwQual:...'>"
      ]
     },
     "execution_count": 19,
     "metadata": {},
     "output_type": "execute_result"
    }
   ],
   "source": [
    "shuffled_sequences_filtered[3]"
   ]
  },
  {
   "cell_type": "code",
   "execution_count": 20,
   "id": "6785debb",
   "metadata": {},
   "outputs": [],
   "source": [
    "L1BMTFStub = ak.zip({name[11:]: array for name, array in zip(ak.fields(shuffled_sequences_filtered), ak.unzip(shuffled_sequences_filtered)) if name.startswith(\"L1BMTFStub_\")})\n",
    "\n",
    "file_out = uproot.recreate(f\"data/output_1000_seq3s.root\")\n",
    "file_out[\"L1BMTFStubSequences\"] = {\n",
    "        \"L1BMTFStub\": L1BMTFStub, \n",
    "        \"orbitNumber\": shuffled_sequences_filtered[\"orbitNumber\"], \n",
    "        \"bunchCrossing\": shuffled_sequences_filtered[\"bunchCrossing\"], \n",
    "        \"sequenceIndex\": shuffled_sequences_filtered[\"sequenceIndex\"]\n",
    "    }"
   ]
  }
 ],
 "metadata": {
  "kernelspec": {
   "display_name": "bxad-env",
   "language": "python",
   "name": "python3"
  },
  "language_info": {
   "codemirror_mode": {
    "name": "ipython",
    "version": 3
   },
   "file_extension": ".py",
   "mimetype": "text/x-python",
   "name": "python",
   "nbconvert_exporter": "python",
   "pygments_lexer": "ipython3",
   "version": "3.11.6"
  }
 },
 "nbformat": 4,
 "nbformat_minor": 5
}
