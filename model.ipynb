{
 "cells": [
  {
   "cell_type": "code",
   "execution_count": 1,
   "id": "f42b66c3",
   "metadata": {},
   "outputs": [],
   "source": [
    "import numpy as np\n",
    "import uproot\n",
    "import awkward as ak\n",
    "import matplotlib.pyplot as plt\n",
    "\n",
    "from torch.utils.data import Dataset\n",
    "from torch import Tensor\n",
    "from torch import save, load\n",
    "import torch.nn as nn"
   ]
  },
  {
   "cell_type": "code",
   "execution_count": 30,
   "id": "3c3d5d0a",
   "metadata": {},
   "outputs": [],
   "source": [
    "class SequenceDataset(Dataset):\n",
    "    def __init__(self, sequenceTree, max_stubs_per_bx=3):\n",
    "        super().__init__()\n",
    "        self.max_stubs_per_bx = max_stubs_per_bx\n",
    "        \n",
    "        meta = sequenceTree[\"L1BMTFStubSequencesMeta\"].arrays()\n",
    "        self.sequence_length = meta[\"sequenceLength\"].to_numpy().item()\n",
    "\n",
    "        arrays = sequenceTree[\"L1BMTFStubSequences\"].arrays()\n",
    "        self.columns_to_keep = arrays.fields.copy()\n",
    "        self.columns_to_keep.remove(\"nL1BMTFStub\")\n",
    "        self.columns_to_keep.remove(\"orbitNumber\")\n",
    "        self.columns_to_keep.remove(\"bunchCrossing\")\n",
    "        self.columns_to_keep.remove(\"sequenceIndex\")\n",
    "        self.ncolumns_to_keep = len(self.columns_to_keep)\n",
    "\n",
    "        self.mean = ak.mean(ak.ravel(arrays[self.columns_to_keep]))\n",
    "        self.std = ak.std(ak.ravel(arrays[self.columns_to_keep]))\n",
    "\n",
    "        df = ak.to_dataframe(arrays)\n",
    "        df = df.drop(columns=[\"nL1BMTFStub\", \"orbitNumber\"])\n",
    "        self.sequences = [g for _, g in df.groupby(\"sequenceIndex\")]\n",
    "        \n",
    "    def __getitem__(self, index):\n",
    "        array = np.zeros(\n",
    "            (\n",
    "                self.sequence_length, \n",
    "                self.max_stubs_per_bx, \n",
    "                self.ncolumns_to_keep\n",
    "            ), \n",
    "            dtype=np.int32\n",
    "        )        \n",
    "\n",
    "        sequence = self.sequences[index]\n",
    "\n",
    "        for idx, (_, sg) in enumerate(sequence.groupby(\"bunchCrossing\")):\n",
    "            sg = sg.drop(columns=[\"sequenceIndex\", \"bunchCrossing\"])\n",
    "            sg_array = sg.to_numpy()\n",
    "            nrow = sg_array.shape[0] if sg_array.shape[0] <= self.max_stubs_per_bx else self.max_stubs_per_bx\n",
    "            array[idx, :nrow, :] = sg_array[:nrow, :]\n",
    "\n",
    "        return (array - self.mean) / self.std\n",
    "        \n",
    "    def __len__(self):\n",
    "        return len(self.sequences)"
   ]
  },
  {
   "cell_type": "code",
   "execution_count": 36,
   "id": "7625a49f",
   "metadata": {},
   "outputs": [
    {
     "data": {
      "text/plain": [
       "['nL1BMTFStub',\n",
       " 'L1BMTFStub_hwQual',\n",
       " 'L1BMTFStub_hwPhi',\n",
       " 'L1BMTFStub_hwPhiB',\n",
       " 'L1BMTFStub_hwEta',\n",
       " 'L1BMTFStub_hwQEta',\n",
       " 'L1BMTFStub_wheel',\n",
       " 'L1BMTFStub_sector',\n",
       " 'L1BMTFStub_station',\n",
       " 'orbitNumber',\n",
       " 'bunchCrossing',\n",
       " 'sequenceIndex']"
      ]
     },
     "execution_count": 36,
     "metadata": {},
     "output_type": "execute_result"
    }
   ],
   "source": [
    "filepath = \"/home/gizago/dev/bxad-test/data/output_1000_seq3s.root\"\n",
    "tree = uproot.open(filepath)\n",
    "tree[\"L1BMTFStubSequences\"].arrays().fields"
   ]
  },
  {
   "cell_type": "code",
   "execution_count": 31,
   "id": "10294b64",
   "metadata": {},
   "outputs": [],
   "source": [
    "dataset = SequenceDataset(tree)"
   ]
  },
  {
   "cell_type": "code",
   "execution_count": 34,
   "id": "fc2abf01",
   "metadata": {},
   "outputs": [
    {
     "data": {
      "text/plain": [
       "array([[[-0.07631915, -2.20948038, -0.77034167, -0.08909257,\n",
       "         -0.08909257, -0.09335038, -0.05077231, -0.08057696],\n",
       "        [-0.08909257, -0.08909257, -0.08909257, -0.08909257,\n",
       "         -0.08909257, -0.08909257, -0.08909257, -0.08909257],\n",
       "        [-0.08909257, -0.08909257, -0.08909257, -0.08909257,\n",
       "         -0.08909257, -0.08909257, -0.08909257, -0.08909257]],\n",
       "\n",
       "       [[-0.08057696,  5.35664239, -0.5446779 , -0.08909257,\n",
       "         -0.08909257, -0.08483476, -0.07206134, -0.08483476],\n",
       "        [-0.08909257, -0.08909257, -0.08909257, -0.08909257,\n",
       "         -0.08909257, -0.08909257, -0.08909257, -0.08909257],\n",
       "        [-0.08909257, -0.08909257, -0.08909257, -0.08909257,\n",
       "         -0.08909257, -0.08909257, -0.08909257, -0.08909257]],\n",
       "\n",
       "       [[-0.07631915,  3.90473025,  1.16270264, -0.08909257,\n",
       "         -0.08909257, -0.09335038, -0.08057696, -0.08483476],\n",
       "        [-0.08909257, -0.08909257, -0.08909257, -0.08909257,\n",
       "         -0.08909257, -0.08909257, -0.08909257, -0.08909257],\n",
       "        [-0.08909257, -0.08909257, -0.08909257, -0.08909257,\n",
       "         -0.08909257, -0.08909257, -0.08909257, -0.08909257]]])"
      ]
     },
     "execution_count": 34,
     "metadata": {},
     "output_type": "execute_result"
    }
   ],
   "source": [
    "dataset[45]"
   ]
  }
 ],
 "metadata": {
  "kernelspec": {
   "display_name": "bxad-env",
   "language": "python",
   "name": "python3"
  },
  "language_info": {
   "codemirror_mode": {
    "name": "ipython",
    "version": 3
   },
   "file_extension": ".py",
   "mimetype": "text/x-python",
   "name": "python",
   "nbconvert_exporter": "python",
   "pygments_lexer": "ipython3",
   "version": "3.11.6"
  }
 },
 "nbformat": 4,
 "nbformat_minor": 5
}
