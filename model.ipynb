{
 "cells": [
  {
   "cell_type": "code",
   "execution_count": 1,
   "id": "f42b66c3",
   "metadata": {},
   "outputs": [],
   "source": [
    "import numpy as np\n",
    "import uproot\n",
    "import awkward as ak\n",
    "import matplotlib.pyplot as plt\n",
    "\n",
    "from torch.utils.data import Dataset\n",
    "from torch import Tensor\n",
    "from torch import save, load\n",
    "import torch.nn as nn"
   ]
  },
  {
   "cell_type": "code",
   "execution_count": 2,
   "id": "342e5956",
   "metadata": {},
   "outputs": [],
   "source": [
    "events = uproot.open(\"/home/gizago/dev/bxad-test/data/output_1000_seq3s.root:L1BMTFStubSequences\").arrays()\n",
    "df = ak.to_dataframe(events)\n",
    "\n",
    "max_stubs_per_bx = 4"
   ]
  },
  {
   "cell_type": "code",
   "execution_count": 3,
   "id": "7971051e",
   "metadata": {},
   "outputs": [
    {
     "data": {
      "text/plain": [
       "['nL1BMTFStub',\n",
       " 'L1BMTFStub_hwQual',\n",
       " 'L1BMTFStub_hwPhi',\n",
       " 'L1BMTFStub_hwPhiB',\n",
       " 'L1BMTFStub_hwEta',\n",
       " 'L1BMTFStub_hwQEta',\n",
       " 'L1BMTFStub_wheel',\n",
       " 'L1BMTFStub_sector',\n",
       " 'L1BMTFStub_station',\n",
       " 'orbitNumber',\n",
       " 'bunchCrossing',\n",
       " 'sequenceIndex']"
      ]
     },
     "execution_count": 3,
     "metadata": {},
     "output_type": "execute_result"
    }
   ],
   "source": [
    "events.fields"
   ]
  },
  {
   "cell_type": "code",
   "execution_count": 4,
   "id": "fe4f91fa",
   "metadata": {},
   "outputs": [],
   "source": [
    "sequences = [g for _, g in df.groupby(\"sequenceIndex\")]"
   ]
  },
  {
   "cell_type": "code",
   "execution_count": 5,
   "id": "6461b245",
   "metadata": {},
   "outputs": [],
   "source": [
    "def nmax_group_stub(group):\n",
    "    return max([len(sg) for _, sg in group.groupby(\"bunchCrossing\")])\n",
    "\n",
    "max_nstub_sequence = list(map(nmax_group_stub, sequences))"
   ]
  },
  {
   "cell_type": "code",
   "execution_count": 19,
   "id": "224d3920",
   "metadata": {},
   "outputs": [
    {
     "name": "stdout",
     "output_type": "stream",
     "text": [
      "[[    6   861   220    16     0    -1     2     1]\n",
      " [    5 -1005   146     4     0    -1     3     2]\n",
      " [    2  -819    -1     0     0    -1     3     4]\n",
      " [    0     0     0     0     0     0     0     0]\n",
      " [    0     0     0     0     0     0     0     0]\n",
      " [    0     0     0     0     0     0     0     0]]\n",
      "[[   6   28  275    8    8   -1    9    1]\n",
      " [   2  444 -209    0    0   -1    9    3]\n",
      " [   0    0    0    0    0    0    0    0]\n",
      " [   0    0    0    0    0    0    0    0]\n",
      " [   0    0    0    0    0    0    0    0]\n",
      " [   0    0    0    0    0    0    0    0]]\n",
      "[[   5  466 -456    0    0   -2    4    2]\n",
      " [   0    0    0    0    0    0    0    0]\n",
      " [   0    0    0    0    0    0    0    0]\n",
      " [   0    0    0    0    0    0    0    0]\n",
      " [   0    0    0    0    0    0    0    0]\n",
      " [   0    0    0    0    0    0    0    0]]\n"
     ]
    }
   ],
   "source": [
    "seq = sequences[2]\n",
    "\n",
    "for _, sg in seq.groupby(\"bunchCrossing\"):\n",
    "    sg = sg.drop(columns=[\"nL1BMTFStub\", \"bunchCrossing\", \"sequenceIndex\", \"orbitNumber\"])\n",
    "    nrow, ncol = sg.to_numpy().shape\n",
    "    zeros = np.zeros((max_stubs_per_bx, ncol), dtype=np.int32)\n",
    "    zeros[:nrow, :ncol] = sg.to_numpy()\n",
    "    print(zeros)"
   ]
  },
  {
   "cell_type": "code",
   "execution_count": null,
   "id": "3c3d5d0a",
   "metadata": {},
   "outputs": [],
   "source": [
    "class SequenceDataset(Dataset):\n",
    "    def __init__(self, file):\n",
    "        super().__init__()\n",
    "        self.seq_length = 3\n",
    "        self.max_stubs_per_bx = 3\n",
    "        self.columns_to_drop = [\"nL1BMTFStub\", \"bunchCrossing\", \"sequenceIndex\", \"orbitNumber\"]\n",
    "        self.ncolumns_to_drop = len(self.columns_to_drop)\n",
    "\n",
    "        events = uproot.open(file + \":L1BMTFStubSequences\").arrays()\n",
    "        self.columns = events.fields\n",
    "        self.ncolumns = len(self.columns)\n",
    "\n",
    "        df = ak.to_dataframe(events)\n",
    "        self.sequences = [g for _, g in df.groupby(\"sequenceIndex\")]\n",
    "        \n",
    "    def __getitem__(self, index):\n",
    "        sequence = self.sequences[index]\n",
    "\n",
    "        array = np.empty(\n",
    "            (\n",
    "                self.seq_length, \n",
    "                self.max_stubs_per_bx, \n",
    "                self.ncolumns - self.ncolumns_to_drop\n",
    "            ), \n",
    "            dtype=np.int32\n",
    "        )        \n",
    "\n",
    "        for idx, (_, sg) in enumerate(sequence.groupby(\"bunchCrossing\")):\n",
    "            sg = sg.drop(columns=self.columns_to_drop)\n",
    "            nrow, _ = sg.to_numpy().shape\n",
    "            zeros = np.zeros(\n",
    "                (\n",
    "                    self.max_stubs_per_bx, \n",
    "                    self.ncolumns - self.ncolumns_to_drop\n",
    "                ), \n",
    "                dtype=np.int32\n",
    "            )\n",
    "            zeros[:nrow, :] = sg.to_numpy()\n",
    "            array[idx, :, :] = zeros\n",
    "\n",
    "        return array\n",
    "        \n",
    "    def __len__(self):\n",
    "        return len(self.sequences)"
   ]
  },
  {
   "cell_type": "code",
   "execution_count": 31,
   "id": "7625a49f",
   "metadata": {},
   "outputs": [],
   "source": [
    "dataset = SequenceDataset(\"/home/gizago/dev/bxad-test/data/output_1000_seq3s.root\")"
   ]
  },
  {
   "cell_type": "code",
   "execution_count": 37,
   "id": "dfa3087e",
   "metadata": {},
   "outputs": [
    {
     "data": {
      "text/plain": [
       "array([[[   6,  392, -173,   16,   16,    1,    1,    1],\n",
       "        [   6,  189, -122,    4,    4,    1,    1,    2],\n",
       "        [   6,   94,  -34,    1,    1,    1,    1,    3],\n",
       "        [   0,    0,    0,    0,    0,    0,    0,    0],\n",
       "        [   0,    0,    0,    0,    0,    0,    0,    0],\n",
       "        [   0,    0,    0,    0,    0,    0,    0,    0]],\n",
       "\n",
       "       [[   3,  -10,    2,    0,    0,    0,    4,    1],\n",
       "        [   0,    0,    0,    0,    0,    0,    0,    0],\n",
       "        [   0,    0,    0,    0,    0,    0,    0,    0],\n",
       "        [   0,    0,    0,    0,    0,    0,    0,    0],\n",
       "        [   0,    0,    0,    0,    0,    0,    0,    0],\n",
       "        [   0,    0,    0,    0,    0,    0,    0,    0]],\n",
       "\n",
       "       [[   4, 1195,  200,    0,    0,    0,    4,    1],\n",
       "        [   0,    0,    0,    0,    0,    0,    0,    0],\n",
       "        [   0,    0,    0,    0,    0,    0,    0,    0],\n",
       "        [   0,    0,    0,    0,    0,    0,    0,    0],\n",
       "        [   0,    0,    0,    0,    0,    0,    0,    0],\n",
       "        [   0,    0,    0,    0,    0,    0,    0,    0]]], dtype=int32)"
      ]
     },
     "execution_count": 37,
     "metadata": {},
     "output_type": "execute_result"
    }
   ],
   "source": [
    "dataset[6]"
   ]
  }
 ],
 "metadata": {
  "kernelspec": {
   "display_name": "bxad-env",
   "language": "python",
   "name": "python3"
  },
  "language_info": {
   "codemirror_mode": {
    "name": "ipython",
    "version": 3
   },
   "file_extension": ".py",
   "mimetype": "text/x-python",
   "name": "python",
   "nbconvert_exporter": "python",
   "pygments_lexer": "ipython3",
   "version": "3.11.6"
  }
 },
 "nbformat": 4,
 "nbformat_minor": 5
}
